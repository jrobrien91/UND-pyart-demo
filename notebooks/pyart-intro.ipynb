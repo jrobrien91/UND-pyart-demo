{
 "cells": [
  {
   "cell_type": "markdown",
   "id": "8b331213-24d0-4694-b9d5-cfb11d129674",
   "metadata": {
    "tags": []
   },
   "source": [
    "<img src=\"https://raw.githubusercontent.com/ProjectPythiaCookbooks/radar-cookbook/main/thumbnail.png\" width=500 alt=\"ARM Logo\"></img>"
   ]
  },
  {
   "cell_type": "markdown",
   "id": "8b78cfa0-1cf9-465d-a968-7981d3f03280",
   "metadata": {
    "tags": []
   },
   "source": [
    "# Py-ART and Open Radar Introduction\n",
    "\n",
    "---"
   ]
  },
  {
   "cell_type": "markdown",
   "id": "1962e233-6b1c-4af8-99ca-70d41eb957f5",
   "metadata": {
    "tags": []
   },
   "source": [
    "## Overview\n",
    "   \n",
    "Within this notebook, we will cover:\n",
    "\n",
    "1. History of Py-ART\n",
    "1. What Can Py-ART Do?\n",
    "1. Availability of Open Radar software\n",
    "1. AMS Radar Conference 2023\n",
    "\n",
    "---"
   ]
  },
  {
   "cell_type": "markdown",
   "id": "036cc713-3354-4c5e-bd4b-789c289bc46a",
   "metadata": {
    "tags": []
   },
   "source": [
    "## History of the Py-ART\n",
    "\n",
    " * Development began to address the needs of ARM with the acquisition of a number of\n",
    "   new scanning cloud and precipitation radar as part of the American Recovery Act.\n",
    " * The project has since expanded to work with a variety of weather radars and a wider user\n",
    "   base including radar researchers and climate modelers.\n",
    " * The software has been released on GitHub as open source software under a BSD license.\n",
    "   Runs on Linux, OS X. It also runs on Windows with more limited functionality.\n",
    "\n",
    "![Py-ART History](../images/pyart_history.png)"
   ]
  },
  {
   "cell_type": "markdown",
   "id": "491329bc-7f30-4123-bd4d-7d1013a63852",
   "metadata": {
    "tags": []
   },
   "source": [
    "## What can PyART Do?\n",
    "\n",
    "Py-ART can be used for a variety of tasks from basic plotting to more complex\n",
    "processing pipelines. Specific uses for Py-ART include:\n",
    "\n",
    " * Reading radar data in a variety of file formats.\n",
    " * Creating plots and visualization of radar data.\n",
    " * Correcting radar moments while in antenna coordinates, such as:\n",
    "    * Doppler unfolding/de-aliasing.\n",
    "    * Attenuation correction.\n",
    "    * Phase processing using a Linear Programming method.\n",
    " * Mapping data from one or multiple radars onto a Cartesian grid.\n",
    " * Performing retrievals.\n",
    " * Writing radial and Cartesian data to NetCDF files.\n",
    " \n",
    " ![Py-ART Blog Example](../images/pyart_demo_KMKX_1April2023.png)\n",
    " \n"
   ]
  },
  {
   "cell_type": "markdown",
   "id": "a6c7f263-3deb-488b-b1fb-73ee70fbaa37",
   "metadata": {},
   "source": [
    "## Availabilty of Open Radar Software\n",
    "\n",
    "- While today we are focusing on Py-ART, there is a very large community of open source radar packages avialable!\n",
    "- There are also (much better) workflow and tutorials available on Py-ART available through this community\n",
    "\n",
    "### Additional Cookbooks / Open Radar Community Resources\n",
    "| Links | Importance | Notes |\n",
    "| --- | --- | --- |\n",
    "| [Py-ART Github Repo](https://github.com/ARM-DOE/pyart) | Helpful | Source Code for Py-ART, Links to Docs, Discussion/Issues |\n",
    "| [Project Pythia - Foundations](https://foundations.projectpythia.org/landing-page.html) | Foundational | Basic Python Foundations |\n",
    "| [Project Pythia - Cookbooks](https://cookbooks.projectpythia.org/) | Helpful | Earth Science Workflows in Python |\n",
    "| [Project Pythia - Radar Cookbook](https://projectpythia.org/radar-cookbook/README.html) | Foundational | Py-ART Radar Cookbook |\n",
    "| [OpenRadar Community](https://openradarscience.org/) | Helpful | The OpenRadar Community of Software Packages |\n",
    "| [OpenRadar Discourse Group](https://openradar.discourse.group/) | Helpful | Discourse Group to ask Radar Science Questions |\n",
    "| [ERAD 2022 Short Course](https://openradarscience.org/erad2022/README.html) | Foundational | Link to European Radar Conference Short Course |\n",
    "\n",
    "- **Time to learn**: 1-3 Days\n",
    "---"
   ]
  },
  {
   "cell_type": "markdown",
   "id": "13413716-7e3f-41c5-b63b-370f001b34d2",
   "metadata": {},
   "source": [
    "## AMS Radar Conference 2023 - Short Course\n",
    "\n",
    "Similar to the [Open Science in the Rockies](https://arm-development.github.io/open-science-rockies-2022/README.html) short course at the AMS Annual Meeting in Denver, the radar community will be hosting a short course and development meeting at the AMS Radar Conference in Minneapolis this August. \n",
    "\n",
    "- [AMS Radar Conference Short Course](https://openradarscience.org/ams-open-radar-2023/README.html)"
   ]
  }
 ],
 "metadata": {
  "kernelspec": {
   "display_name": "Python 3 (ipykernel)",
   "language": "python",
   "name": "python3"
  },
  "language_info": {
   "codemirror_mode": {
    "name": "ipython",
    "version": 3
   },
   "file_extension": ".py",
   "mimetype": "text/x-python",
   "name": "python",
   "nbconvert_exporter": "python",
   "pygments_lexer": "ipython3",
   "version": "3.9.16"
  }
 },
 "nbformat": 4,
 "nbformat_minor": 5
}
